{
 "cells": [
  {
   "cell_type": "code",
   "execution_count": 260,
   "id": "766a90b5",
   "metadata": {},
   "outputs": [],
   "source": [
    "# importing necessary libraries\n",
    "import numpy as np\n",
    "import pandas as pd\n",
    "import matplotlib.pyplot as plt\n",
    "import seaborn as sns"
   ]
  },
  {
   "cell_type": "code",
   "execution_count": 261,
   "id": "dd3ec5af",
   "metadata": {},
   "outputs": [],
   "source": [
    "import warnings\n",
    "warnings.filterwarnings(\"ignore\")"
   ]
  },
  {
   "cell_type": "code",
   "execution_count": 262,
   "id": "cc048230",
   "metadata": {},
   "outputs": [],
   "source": [
    "data=pd.read_csv(\"Country-data.csv\")"
   ]
  },
  {
   "cell_type": "markdown",
   "id": "b41c9eec",
   "metadata": {},
   "source": [
    "<h2>Data Inspection</h2>"
   ]
  },
  {
   "cell_type": "code",
   "execution_count": 263,
   "id": "fae17b03",
   "metadata": {},
   "outputs": [
    {
     "data": {
      "text/html": [
       "<div>\n",
       "<style scoped>\n",
       "    .dataframe tbody tr th:only-of-type {\n",
       "        vertical-align: middle;\n",
       "    }\n",
       "\n",
       "    .dataframe tbody tr th {\n",
       "        vertical-align: top;\n",
       "    }\n",
       "\n",
       "    .dataframe thead th {\n",
       "        text-align: right;\n",
       "    }\n",
       "</style>\n",
       "<table border=\"1\" class=\"dataframe\">\n",
       "  <thead>\n",
       "    <tr style=\"text-align: right;\">\n",
       "      <th></th>\n",
       "      <th>country</th>\n",
       "      <th>child_mort</th>\n",
       "      <th>exports</th>\n",
       "      <th>health</th>\n",
       "      <th>imports</th>\n",
       "      <th>income</th>\n",
       "      <th>inflation</th>\n",
       "      <th>life_expec</th>\n",
       "      <th>total_fer</th>\n",
       "      <th>gdpp</th>\n",
       "    </tr>\n",
       "  </thead>\n",
       "  <tbody>\n",
       "    <tr>\n",
       "      <th>0</th>\n",
       "      <td>Afghanistan</td>\n",
       "      <td>90.2</td>\n",
       "      <td>10.0</td>\n",
       "      <td>7.58</td>\n",
       "      <td>44.9</td>\n",
       "      <td>1610</td>\n",
       "      <td>9.44</td>\n",
       "      <td>56.2</td>\n",
       "      <td>5.82</td>\n",
       "      <td>553</td>\n",
       "    </tr>\n",
       "    <tr>\n",
       "      <th>1</th>\n",
       "      <td>Albania</td>\n",
       "      <td>16.6</td>\n",
       "      <td>28.0</td>\n",
       "      <td>6.55</td>\n",
       "      <td>48.6</td>\n",
       "      <td>9930</td>\n",
       "      <td>4.49</td>\n",
       "      <td>76.3</td>\n",
       "      <td>1.65</td>\n",
       "      <td>4090</td>\n",
       "    </tr>\n",
       "    <tr>\n",
       "      <th>2</th>\n",
       "      <td>Algeria</td>\n",
       "      <td>27.3</td>\n",
       "      <td>38.4</td>\n",
       "      <td>4.17</td>\n",
       "      <td>31.4</td>\n",
       "      <td>12900</td>\n",
       "      <td>16.10</td>\n",
       "      <td>76.5</td>\n",
       "      <td>2.89</td>\n",
       "      <td>4460</td>\n",
       "    </tr>\n",
       "    <tr>\n",
       "      <th>3</th>\n",
       "      <td>Angola</td>\n",
       "      <td>119.0</td>\n",
       "      <td>62.3</td>\n",
       "      <td>2.85</td>\n",
       "      <td>42.9</td>\n",
       "      <td>5900</td>\n",
       "      <td>22.40</td>\n",
       "      <td>60.1</td>\n",
       "      <td>6.16</td>\n",
       "      <td>3530</td>\n",
       "    </tr>\n",
       "    <tr>\n",
       "      <th>4</th>\n",
       "      <td>Antigua and Barbuda</td>\n",
       "      <td>10.3</td>\n",
       "      <td>45.5</td>\n",
       "      <td>6.03</td>\n",
       "      <td>58.9</td>\n",
       "      <td>19100</td>\n",
       "      <td>1.44</td>\n",
       "      <td>76.8</td>\n",
       "      <td>2.13</td>\n",
       "      <td>12200</td>\n",
       "    </tr>\n",
       "  </tbody>\n",
       "</table>\n",
       "</div>"
      ],
      "text/plain": [
       "               country  child_mort  exports  health  imports  income  \\\n",
       "0          Afghanistan        90.2     10.0    7.58     44.9    1610   \n",
       "1              Albania        16.6     28.0    6.55     48.6    9930   \n",
       "2              Algeria        27.3     38.4    4.17     31.4   12900   \n",
       "3               Angola       119.0     62.3    2.85     42.9    5900   \n",
       "4  Antigua and Barbuda        10.3     45.5    6.03     58.9   19100   \n",
       "\n",
       "   inflation  life_expec  total_fer   gdpp  \n",
       "0       9.44        56.2       5.82    553  \n",
       "1       4.49        76.3       1.65   4090  \n",
       "2      16.10        76.5       2.89   4460  \n",
       "3      22.40        60.1       6.16   3530  \n",
       "4       1.44        76.8       2.13  12200  "
      ]
     },
     "execution_count": 263,
     "metadata": {},
     "output_type": "execute_result"
    }
   ],
   "source": [
    "data.head()"
   ]
  },
  {
   "cell_type": "code",
   "execution_count": 264,
   "id": "e72ca36b",
   "metadata": {},
   "outputs": [
    {
     "data": {
      "text/html": [
       "<div>\n",
       "<style scoped>\n",
       "    .dataframe tbody tr th:only-of-type {\n",
       "        vertical-align: middle;\n",
       "    }\n",
       "\n",
       "    .dataframe tbody tr th {\n",
       "        vertical-align: top;\n",
       "    }\n",
       "\n",
       "    .dataframe thead th {\n",
       "        text-align: right;\n",
       "    }\n",
       "</style>\n",
       "<table border=\"1\" class=\"dataframe\">\n",
       "  <thead>\n",
       "    <tr style=\"text-align: right;\">\n",
       "      <th></th>\n",
       "      <th>country</th>\n",
       "      <th>child_mort</th>\n",
       "      <th>exports</th>\n",
       "      <th>health</th>\n",
       "      <th>imports</th>\n",
       "      <th>income</th>\n",
       "      <th>inflation</th>\n",
       "      <th>life_expec</th>\n",
       "      <th>total_fer</th>\n",
       "      <th>gdpp</th>\n",
       "    </tr>\n",
       "  </thead>\n",
       "  <tbody>\n",
       "    <tr>\n",
       "      <th>162</th>\n",
       "      <td>Vanuatu</td>\n",
       "      <td>29.2</td>\n",
       "      <td>46.6</td>\n",
       "      <td>5.25</td>\n",
       "      <td>52.7</td>\n",
       "      <td>2950</td>\n",
       "      <td>2.62</td>\n",
       "      <td>63.0</td>\n",
       "      <td>3.50</td>\n",
       "      <td>2970</td>\n",
       "    </tr>\n",
       "    <tr>\n",
       "      <th>163</th>\n",
       "      <td>Venezuela</td>\n",
       "      <td>17.1</td>\n",
       "      <td>28.5</td>\n",
       "      <td>4.91</td>\n",
       "      <td>17.6</td>\n",
       "      <td>16500</td>\n",
       "      <td>45.90</td>\n",
       "      <td>75.4</td>\n",
       "      <td>2.47</td>\n",
       "      <td>13500</td>\n",
       "    </tr>\n",
       "    <tr>\n",
       "      <th>164</th>\n",
       "      <td>Vietnam</td>\n",
       "      <td>23.3</td>\n",
       "      <td>72.0</td>\n",
       "      <td>6.84</td>\n",
       "      <td>80.2</td>\n",
       "      <td>4490</td>\n",
       "      <td>12.10</td>\n",
       "      <td>73.1</td>\n",
       "      <td>1.95</td>\n",
       "      <td>1310</td>\n",
       "    </tr>\n",
       "    <tr>\n",
       "      <th>165</th>\n",
       "      <td>Yemen</td>\n",
       "      <td>56.3</td>\n",
       "      <td>30.0</td>\n",
       "      <td>5.18</td>\n",
       "      <td>34.4</td>\n",
       "      <td>4480</td>\n",
       "      <td>23.60</td>\n",
       "      <td>67.5</td>\n",
       "      <td>4.67</td>\n",
       "      <td>1310</td>\n",
       "    </tr>\n",
       "    <tr>\n",
       "      <th>166</th>\n",
       "      <td>Zambia</td>\n",
       "      <td>83.1</td>\n",
       "      <td>37.0</td>\n",
       "      <td>5.89</td>\n",
       "      <td>30.9</td>\n",
       "      <td>3280</td>\n",
       "      <td>14.00</td>\n",
       "      <td>52.0</td>\n",
       "      <td>5.40</td>\n",
       "      <td>1460</td>\n",
       "    </tr>\n",
       "  </tbody>\n",
       "</table>\n",
       "</div>"
      ],
      "text/plain": [
       "       country  child_mort  exports  health  imports  income  inflation  \\\n",
       "162    Vanuatu        29.2     46.6    5.25     52.7    2950       2.62   \n",
       "163  Venezuela        17.1     28.5    4.91     17.6   16500      45.90   \n",
       "164    Vietnam        23.3     72.0    6.84     80.2    4490      12.10   \n",
       "165      Yemen        56.3     30.0    5.18     34.4    4480      23.60   \n",
       "166     Zambia        83.1     37.0    5.89     30.9    3280      14.00   \n",
       "\n",
       "     life_expec  total_fer   gdpp  \n",
       "162        63.0       3.50   2970  \n",
       "163        75.4       2.47  13500  \n",
       "164        73.1       1.95   1310  \n",
       "165        67.5       4.67   1310  \n",
       "166        52.0       5.40   1460  "
      ]
     },
     "execution_count": 264,
     "metadata": {},
     "output_type": "execute_result"
    }
   ],
   "source": [
    "data.tail()"
   ]
  },
  {
   "cell_type": "code",
   "execution_count": 265,
   "id": "0f511de0",
   "metadata": {},
   "outputs": [
    {
     "data": {
      "text/plain": [
       "country        object\n",
       "child_mort    float64\n",
       "exports       float64\n",
       "health        float64\n",
       "imports       float64\n",
       "income          int64\n",
       "inflation     float64\n",
       "life_expec    float64\n",
       "total_fer     float64\n",
       "gdpp            int64\n",
       "dtype: object"
      ]
     },
     "execution_count": 265,
     "metadata": {},
     "output_type": "execute_result"
    }
   ],
   "source": [
    "data.dtypes"
   ]
  },
  {
   "cell_type": "code",
   "execution_count": 266,
   "id": "1b62f9f2",
   "metadata": {},
   "outputs": [
    {
     "data": {
      "text/plain": [
       "Index(['country', 'child_mort', 'exports', 'health', 'imports', 'income',\n",
       "       'inflation', 'life_expec', 'total_fer', 'gdpp'],\n",
       "      dtype='object')"
      ]
     },
     "execution_count": 266,
     "metadata": {},
     "output_type": "execute_result"
    }
   ],
   "source": [
    "data.columns"
   ]
  },
  {
   "cell_type": "code",
   "execution_count": 267,
   "id": "821f1aef",
   "metadata": {},
   "outputs": [
    {
     "data": {
      "text/html": [
       "<div>\n",
       "<style scoped>\n",
       "    .dataframe tbody tr th:only-of-type {\n",
       "        vertical-align: middle;\n",
       "    }\n",
       "\n",
       "    .dataframe tbody tr th {\n",
       "        vertical-align: top;\n",
       "    }\n",
       "\n",
       "    .dataframe thead th {\n",
       "        text-align: right;\n",
       "    }\n",
       "</style>\n",
       "<table border=\"1\" class=\"dataframe\">\n",
       "  <thead>\n",
       "    <tr style=\"text-align: right;\">\n",
       "      <th></th>\n",
       "      <th>child_mort</th>\n",
       "      <th>exports</th>\n",
       "      <th>health</th>\n",
       "      <th>imports</th>\n",
       "      <th>income</th>\n",
       "      <th>inflation</th>\n",
       "      <th>life_expec</th>\n",
       "      <th>total_fer</th>\n",
       "      <th>gdpp</th>\n",
       "    </tr>\n",
       "  </thead>\n",
       "  <tbody>\n",
       "    <tr>\n",
       "      <th>count</th>\n",
       "      <td>167.000000</td>\n",
       "      <td>167.000000</td>\n",
       "      <td>167.000000</td>\n",
       "      <td>167.000000</td>\n",
       "      <td>167.000000</td>\n",
       "      <td>167.000000</td>\n",
       "      <td>167.000000</td>\n",
       "      <td>167.000000</td>\n",
       "      <td>167.000000</td>\n",
       "    </tr>\n",
       "    <tr>\n",
       "      <th>mean</th>\n",
       "      <td>38.270060</td>\n",
       "      <td>41.108976</td>\n",
       "      <td>6.815689</td>\n",
       "      <td>46.890215</td>\n",
       "      <td>17144.688623</td>\n",
       "      <td>7.781832</td>\n",
       "      <td>70.555689</td>\n",
       "      <td>2.947964</td>\n",
       "      <td>12964.155689</td>\n",
       "    </tr>\n",
       "    <tr>\n",
       "      <th>std</th>\n",
       "      <td>40.328931</td>\n",
       "      <td>27.412010</td>\n",
       "      <td>2.746837</td>\n",
       "      <td>24.209589</td>\n",
       "      <td>19278.067698</td>\n",
       "      <td>10.570704</td>\n",
       "      <td>8.893172</td>\n",
       "      <td>1.513848</td>\n",
       "      <td>18328.704809</td>\n",
       "    </tr>\n",
       "    <tr>\n",
       "      <th>min</th>\n",
       "      <td>2.600000</td>\n",
       "      <td>0.109000</td>\n",
       "      <td>1.810000</td>\n",
       "      <td>0.065900</td>\n",
       "      <td>609.000000</td>\n",
       "      <td>-4.210000</td>\n",
       "      <td>32.100000</td>\n",
       "      <td>1.150000</td>\n",
       "      <td>231.000000</td>\n",
       "    </tr>\n",
       "    <tr>\n",
       "      <th>25%</th>\n",
       "      <td>8.250000</td>\n",
       "      <td>23.800000</td>\n",
       "      <td>4.920000</td>\n",
       "      <td>30.200000</td>\n",
       "      <td>3355.000000</td>\n",
       "      <td>1.810000</td>\n",
       "      <td>65.300000</td>\n",
       "      <td>1.795000</td>\n",
       "      <td>1330.000000</td>\n",
       "    </tr>\n",
       "    <tr>\n",
       "      <th>50%</th>\n",
       "      <td>19.300000</td>\n",
       "      <td>35.000000</td>\n",
       "      <td>6.320000</td>\n",
       "      <td>43.300000</td>\n",
       "      <td>9960.000000</td>\n",
       "      <td>5.390000</td>\n",
       "      <td>73.100000</td>\n",
       "      <td>2.410000</td>\n",
       "      <td>4660.000000</td>\n",
       "    </tr>\n",
       "    <tr>\n",
       "      <th>75%</th>\n",
       "      <td>62.100000</td>\n",
       "      <td>51.350000</td>\n",
       "      <td>8.600000</td>\n",
       "      <td>58.750000</td>\n",
       "      <td>22800.000000</td>\n",
       "      <td>10.750000</td>\n",
       "      <td>76.800000</td>\n",
       "      <td>3.880000</td>\n",
       "      <td>14050.000000</td>\n",
       "    </tr>\n",
       "    <tr>\n",
       "      <th>max</th>\n",
       "      <td>208.000000</td>\n",
       "      <td>200.000000</td>\n",
       "      <td>17.900000</td>\n",
       "      <td>174.000000</td>\n",
       "      <td>125000.000000</td>\n",
       "      <td>104.000000</td>\n",
       "      <td>82.800000</td>\n",
       "      <td>7.490000</td>\n",
       "      <td>105000.000000</td>\n",
       "    </tr>\n",
       "  </tbody>\n",
       "</table>\n",
       "</div>"
      ],
      "text/plain": [
       "       child_mort     exports      health     imports         income  \\\n",
       "count  167.000000  167.000000  167.000000  167.000000     167.000000   \n",
       "mean    38.270060   41.108976    6.815689   46.890215   17144.688623   \n",
       "std     40.328931   27.412010    2.746837   24.209589   19278.067698   \n",
       "min      2.600000    0.109000    1.810000    0.065900     609.000000   \n",
       "25%      8.250000   23.800000    4.920000   30.200000    3355.000000   \n",
       "50%     19.300000   35.000000    6.320000   43.300000    9960.000000   \n",
       "75%     62.100000   51.350000    8.600000   58.750000   22800.000000   \n",
       "max    208.000000  200.000000   17.900000  174.000000  125000.000000   \n",
       "\n",
       "        inflation  life_expec   total_fer           gdpp  \n",
       "count  167.000000  167.000000  167.000000     167.000000  \n",
       "mean     7.781832   70.555689    2.947964   12964.155689  \n",
       "std     10.570704    8.893172    1.513848   18328.704809  \n",
       "min     -4.210000   32.100000    1.150000     231.000000  \n",
       "25%      1.810000   65.300000    1.795000    1330.000000  \n",
       "50%      5.390000   73.100000    2.410000    4660.000000  \n",
       "75%     10.750000   76.800000    3.880000   14050.000000  \n",
       "max    104.000000   82.800000    7.490000  105000.000000  "
      ]
     },
     "execution_count": 267,
     "metadata": {},
     "output_type": "execute_result"
    }
   ],
   "source": [
    "data.describe()"
   ]
  },
  {
   "cell_type": "code",
   "execution_count": 268,
   "id": "505f05d6",
   "metadata": {},
   "outputs": [
    {
     "name": "stdout",
     "output_type": "stream",
     "text": [
      "<class 'pandas.core.frame.DataFrame'>\n",
      "RangeIndex: 167 entries, 0 to 166\n",
      "Data columns (total 10 columns):\n",
      " #   Column      Non-Null Count  Dtype  \n",
      "---  ------      --------------  -----  \n",
      " 0   country     167 non-null    object \n",
      " 1   child_mort  167 non-null    float64\n",
      " 2   exports     167 non-null    float64\n",
      " 3   health      167 non-null    float64\n",
      " 4   imports     167 non-null    float64\n",
      " 5   income      167 non-null    int64  \n",
      " 6   inflation   167 non-null    float64\n",
      " 7   life_expec  167 non-null    float64\n",
      " 8   total_fer   167 non-null    float64\n",
      " 9   gdpp        167 non-null    int64  \n",
      "dtypes: float64(7), int64(2), object(1)\n",
      "memory usage: 13.2+ KB\n"
     ]
    }
   ],
   "source": [
    "data.info()"
   ]
  },
  {
   "cell_type": "code",
   "execution_count": 269,
   "id": "5f1e14b4",
   "metadata": {},
   "outputs": [
    {
     "data": {
      "text/plain": [
       "(167, 10)"
      ]
     },
     "execution_count": 269,
     "metadata": {},
     "output_type": "execute_result"
    }
   ],
   "source": [
    "data.shape "
   ]
  },
  {
   "cell_type": "markdown",
   "id": "44d7f453",
   "metadata": {},
   "source": [
    "<h2>Data Cleaning</h2>"
   ]
  },
  {
   "cell_type": "code",
   "execution_count": 270,
   "id": "82097858",
   "metadata": {},
   "outputs": [
    {
     "data": {
      "text/plain": [
       "country       0\n",
       "child_mort    0\n",
       "exports       0\n",
       "health        0\n",
       "imports       0\n",
       "income        0\n",
       "inflation     0\n",
       "life_expec    0\n",
       "total_fer     0\n",
       "gdpp          0\n",
       "dtype: int64"
      ]
     },
     "execution_count": 270,
     "metadata": {},
     "output_type": "execute_result"
    }
   ],
   "source": [
    "# checking the null value counts\n",
    "data.isna().sum()"
   ]
  },
  {
   "cell_type": "markdown",
   "id": "5f375ef8",
   "metadata": {},
   "source": [
    "Null values not present in the dataset"
   ]
  },
  {
   "cell_type": "markdown",
   "id": "def2ceb6",
   "metadata": {},
   "source": [
    "<h3>check for the outliers in the dataset</h3>"
   ]
  },
  {
   "cell_type": "code",
   "execution_count": 271,
   "id": "34fd95ce",
   "metadata": {},
   "outputs": [
    {
     "data": {
      "image/png": "[encoded data removed]",
      "text/plain": [
       "<Figure size 432x288 with 9 Axes>"
      ]
     },
     "metadata": {
      "needs_background": "light"
     },
     "output_type": "display_data"
    }
   ],
   "source": [
    "\n",
    "var=data.select_dtypes(exclude= \"object\")\n",
    "plt.Figure(figsize=(16,12))\n",
    "for i in enumerate(var):\n",
    "    plt.subplot(3,3,i[0]+1)\n",
    "    sns.boxplot(x=i[1],data=data)\n",
    "    plt.tight_layout()\n",
    "#     print(i[0]+1)\n",
    "#     print(i[1])\n",
    "#         print(i)"
   ]
  },
  {
   "cell_type": "markdown",
   "id": "a4ee9c27",
   "metadata": {},
   "source": [
    "We can see that outliers are present in the all numeric columns columns"
   ]
  },
  {
   "cell_type": "markdown",
   "id": "0cc548ab",
   "metadata": {},
   "source": [
    "<h3>Handling the outliers in each columns</h3>\n"
   ]
  },
  {
   "cell_type": "code",
   "execution_count": 272,
   "id": "d162f30d",
   "metadata": {},
   "outputs": [],
   "source": [
    "for i in var:\n",
    "    Q1=np.percentile(data[i],25,interpolation=\"midpoint\")\n",
    "    Q3=np.percentile(data[i],75,interpolation=\"midpoint\")\n",
    "    IQR=Q3-Q1\n",
    "    UL=Q3+(1.5*IQR)\n",
    "    LL=Q1-(1.5*IQR)\n",
    "    data[i]=np.where(data[i]<LL,LL,np.where(data[i]>UL,UL,data[i]))"
   ]
  },
  {
   "cell_type": "code",
   "execution_count": 273,
   "id": "3fa44381",
   "metadata": {},
   "outputs": [
    {
     "data": {
      "image/png": "[encoded data removed]",
      "text/plain": [
       "<Figure size 432x288 with 9 Axes>"
      ]
     },
     "metadata": {
      "needs_background": "light"
     },
     "output_type": "display_data"
    }
   ],
   "source": [
    "plt.Figure(figsize=(16,12))\n",
    "for i in enumerate(var):\n",
    "    plt.subplot(3,3,i[0]+1)\n",
    "    sns.boxplot(x=i[1],data=data)\n",
    "    plt.tight_layout()"
   ]
  },
  {
   "cell_type": "markdown",
   "id": "bc16e89b",
   "metadata": {},
   "source": [
    "<h2>Univariate Analysis<h2>"
   ]
  },
  {
   "cell_type": "code",
   "execution_count": 274,
   "id": "96389764",
   "metadata": {},
   "outputs": [],
   "source": [
    "# we will look for lowest 10 countries in each factors"
   ]
  },
  {
   "cell_type": "code",
   "execution_count": 275,
   "id": "6ed6a38d",
   "metadata": {},
   "outputs": [
    {
     "name": "stdout",
     "output_type": "stream",
     "text": [
      "\n",
      "Countries with high Child-Mortatlity, inflation & total fertility rate\n",
      "\n"
     ]
    },
    {
     "data": {
      "image/png": "[encoded data removed]",
      "text/plain": [
       "<Figure size 2160x720 with 3 Axes>"
      ]
     },
     "metadata": {
      "needs_background": "light"
     },
     "output_type": "display_data"
    }
   ],
   "source": [
    "data[[\"country\",\"child_mort\"]].sort_values(by='child_mort', ascending = False).head(10)\n",
    "top=[\"child_mort\",'inflation','total_fer']\n",
    "bottom=['exports','health','imports','income','life_expec','gdpp']\n",
    "x=0\n",
    "fig,my_grid=plt.subplots(1,3)\n",
    "print(\"\\nCountries with high Child-Mortatlity, inflation & total fertility rate\\n\")\n",
    "for i in data[top]:\n",
    "        fig.set_size_inches(30, 10)\n",
    "        data_top=data[[\"country\",i]].sort_values(by=i, ascending = False).head()\n",
    "        sns.barplot(x=\"country\",y=i,data=data_top,ax=my_grid[x])\n",
    "        x=x+1\n",
    "        plt.tight_layout()\n",
    "\n",
    "plt.tight_layout()"
   ]
  },
  {
   "cell_type": "code",
   "execution_count": 276,
   "id": "332868ce",
   "metadata": {},
   "outputs": [
    {
     "name": "stdout",
     "output_type": "stream",
     "text": [
      "\n",
      "Countries with low 'exports','health','imports','income','life_expec','gdpp'\n",
      "\n"
     ]
    },
    {
     "data": {
      "image/png": "[encoded data removed]",
      "text/plain": [
       "<Figure size 2160x720 with 6 Axes>"
      ]
     },
     "metadata": {
      "needs_background": "light"
     },
     "output_type": "display_data"
    }
   ],
   "source": [
    "x=0\n",
    "fig,my_grid=plt.subplots(1,6)\n",
    "print(\"\\nCountries with low 'exports','health','imports','income','life_expec','gdpp'\\n\")\n",
    "for i in data[bottom]:\n",
    "        fig.set_size_inches(30, 10)\n",
    "        data_bottom=data[[\"country\",i]].sort_values(by=i, ascending = True).head()\n",
    "        sns.barplot(x=\"country\",y=i,data=data_bottom,ax=my_grid[x])\n",
    "        x=x+1\n",
    "        plt.tight_layout()\n",
    "\n",
    "plt.tight_layout()"
   ]
  },
  {
   "cell_type": "markdown",
   "id": "c4d9b4a2",
   "metadata": {},
   "source": [
    "<h3>Bivariate Analysis</h3>"
   ]
  },
  {
   "cell_type": "code",
   "execution_count": 277,
   "id": "562075ae",
   "metadata": {},
   "outputs": [
    {
     "data": {
      "text/plain": [
       "Text(0.5, 1.0, 'child_mort vs total_fer')"
      ]
     },
     "execution_count": 277,
     "metadata": {},
     "output_type": "execute_result"
    },
    {
     "data": {
      "image/png": "[encoded data removed]",
      "text/plain": [
       "<Figure size 1008x432 with 1 Axes>"
      ]
     },
     "metadata": {
      "needs_background": "light"
     },
     "output_type": "display_data"
    }
   ],
   "source": [
    "# we will the \n",
    "plt.figure(figsize=(14,6))\n",
    "sns.scatterplot(y=data['child_mort'],x=data['total_fer'],s=100)\n",
    "plt.title(\"child_mort vs total_fer\")"
   ]
  },
  {
   "cell_type": "markdown",
   "id": "f0d8f792",
   "metadata": {},
   "source": [
    "Child mortality high for high Fertility Rate"
   ]
  },
  {
   "cell_type": "markdown",
   "id": "851f31fc",
   "metadata": {},
   "source": [
    "<h2>Check the correlation between numerical features</h2>"
   ]
  },
  {
   "cell_type": "code",
   "execution_count": 278,
   "id": "0ffec763",
   "metadata": {},
   "outputs": [],
   "source": [
    "corr=data.corr()\n"
   ]
  },
  {
   "cell_type": "code",
   "execution_count": 279,
   "id": "0f6c7e05",
   "metadata": {},
   "outputs": [
    {
     "data": {
      "text/plain": [
       "Text(0.5, 1.0, 'Correlation Matrix Plot')"
      ]
     },
     "execution_count": 279,
     "metadata": {},
     "output_type": "execute_result"
    },
    {
     "data": {
      "image/png": "[encoded data removed]",
      "text/plain": [
       "<Figure size 432x288 with 2 Axes>"
      ]
     },
     "metadata": {
      "needs_background": "light"
     },
     "output_type": "display_data"
    }
   ],
   "source": [
    "plt.Figure(figsize=(10,10))\n",
    "sns.heatmap(corr,annot=True,cmap=\"RdYlGn\")\n",
    "plt.title(\"Correlation Matrix Plot\")"
   ]
  },
  {
   "cell_type": "markdown",
   "id": "a41acabb",
   "metadata": {},
   "source": [
    "we can see that there are some fetaures with high correlation coeffiecient, so we will go for dimentionality reduction using PCA"
   ]
  },
  {
   "cell_type": "code",
   "execution_count": 191,
   "id": "2e21ffb8",
   "metadata": {},
   "outputs": [
    {
     "data": {
      "text/html": [
       "<div>\n",
       "<style scoped>\n",
       "    .dataframe tbody tr th:only-of-type {\n",
       "        vertical-align: middle;\n",
       "    }\n",
       "\n",
       "    .dataframe tbody tr th {\n",
       "        vertical-align: top;\n",
       "    }\n",
       "\n",
       "    .dataframe thead th {\n",
       "        text-align: right;\n",
       "    }\n",
       "</style>\n",
       "<table border=\"1\" class=\"dataframe\">\n",
       "  <thead>\n",
       "    <tr style=\"text-align: right;\">\n",
       "      <th></th>\n",
       "      <th>country</th>\n",
       "      <th>child_mort</th>\n",
       "      <th>exports</th>\n",
       "      <th>health</th>\n",
       "      <th>imports</th>\n",
       "      <th>income</th>\n",
       "      <th>inflation</th>\n",
       "      <th>life_expec</th>\n",
       "      <th>total_fer</th>\n",
       "      <th>gdpp</th>\n",
       "    </tr>\n",
       "  </thead>\n",
       "  <tbody>\n",
       "    <tr>\n",
       "      <th>0</th>\n",
       "      <td>Afghanistan</td>\n",
       "      <td>90.2</td>\n",
       "      <td>10.0</td>\n",
       "      <td>7.58</td>\n",
       "      <td>44.9</td>\n",
       "      <td>1610.0</td>\n",
       "      <td>9.44</td>\n",
       "      <td>56.2</td>\n",
       "      <td>5.82</td>\n",
       "      <td>553.0</td>\n",
       "    </tr>\n",
       "    <tr>\n",
       "      <th>1</th>\n",
       "      <td>Albania</td>\n",
       "      <td>16.6</td>\n",
       "      <td>28.0</td>\n",
       "      <td>6.55</td>\n",
       "      <td>48.6</td>\n",
       "      <td>9930.0</td>\n",
       "      <td>4.49</td>\n",
       "      <td>76.3</td>\n",
       "      <td>1.65</td>\n",
       "      <td>4090.0</td>\n",
       "    </tr>\n",
       "    <tr>\n",
       "      <th>2</th>\n",
       "      <td>Algeria</td>\n",
       "      <td>27.3</td>\n",
       "      <td>38.4</td>\n",
       "      <td>4.17</td>\n",
       "      <td>31.4</td>\n",
       "      <td>12900.0</td>\n",
       "      <td>16.10</td>\n",
       "      <td>76.5</td>\n",
       "      <td>2.89</td>\n",
       "      <td>4460.0</td>\n",
       "    </tr>\n",
       "    <tr>\n",
       "      <th>3</th>\n",
       "      <td>Angola</td>\n",
       "      <td>119.0</td>\n",
       "      <td>62.3</td>\n",
       "      <td>2.85</td>\n",
       "      <td>42.9</td>\n",
       "      <td>5900.0</td>\n",
       "      <td>22.40</td>\n",
       "      <td>60.1</td>\n",
       "      <td>6.16</td>\n",
       "      <td>3530.0</td>\n",
       "    </tr>\n",
       "    <tr>\n",
       "      <th>4</th>\n",
       "      <td>Antigua and Barbuda</td>\n",
       "      <td>10.3</td>\n",
       "      <td>45.5</td>\n",
       "      <td>6.03</td>\n",
       "      <td>58.9</td>\n",
       "      <td>19100.0</td>\n",
       "      <td>1.44</td>\n",
       "      <td>76.8</td>\n",
       "      <td>2.13</td>\n",
       "      <td>12200.0</td>\n",
       "    </tr>\n",
       "    <tr>\n",
       "      <th>...</th>\n",
       "      <td>...</td>\n",
       "      <td>...</td>\n",
       "      <td>...</td>\n",
       "      <td>...</td>\n",
       "      <td>...</td>\n",
       "      <td>...</td>\n",
       "      <td>...</td>\n",
       "      <td>...</td>\n",
       "      <td>...</td>\n",
       "      <td>...</td>\n",
       "    </tr>\n",
       "    <tr>\n",
       "      <th>162</th>\n",
       "      <td>Vanuatu</td>\n",
       "      <td>29.2</td>\n",
       "      <td>46.6</td>\n",
       "      <td>5.25</td>\n",
       "      <td>52.7</td>\n",
       "      <td>2950.0</td>\n",
       "      <td>2.62</td>\n",
       "      <td>63.0</td>\n",
       "      <td>3.50</td>\n",
       "      <td>2970.0</td>\n",
       "    </tr>\n",
       "    <tr>\n",
       "      <th>163</th>\n",
       "      <td>Venezuela</td>\n",
       "      <td>17.1</td>\n",
       "      <td>28.5</td>\n",
       "      <td>4.91</td>\n",
       "      <td>17.6</td>\n",
       "      <td>16500.0</td>\n",
       "      <td>24.16</td>\n",
       "      <td>75.4</td>\n",
       "      <td>2.47</td>\n",
       "      <td>13500.0</td>\n",
       "    </tr>\n",
       "    <tr>\n",
       "      <th>164</th>\n",
       "      <td>Vietnam</td>\n",
       "      <td>23.3</td>\n",
       "      <td>72.0</td>\n",
       "      <td>6.84</td>\n",
       "      <td>80.2</td>\n",
       "      <td>4490.0</td>\n",
       "      <td>12.10</td>\n",
       "      <td>73.1</td>\n",
       "      <td>1.95</td>\n",
       "      <td>1310.0</td>\n",
       "    </tr>\n",
       "    <tr>\n",
       "      <th>165</th>\n",
       "      <td>Yemen</td>\n",
       "      <td>56.3</td>\n",
       "      <td>30.0</td>\n",
       "      <td>5.18</td>\n",
       "      <td>34.4</td>\n",
       "      <td>4480.0</td>\n",
       "      <td>23.60</td>\n",
       "      <td>67.5</td>\n",
       "      <td>4.67</td>\n",
       "      <td>1310.0</td>\n",
       "    </tr>\n",
       "    <tr>\n",
       "      <th>166</th>\n",
       "      <td>Zambia</td>\n",
       "      <td>83.1</td>\n",
       "      <td>37.0</td>\n",
       "      <td>5.89</td>\n",
       "      <td>30.9</td>\n",
       "      <td>3280.0</td>\n",
       "      <td>14.00</td>\n",
       "      <td>52.0</td>\n",
       "      <td>5.40</td>\n",
       "      <td>1460.0</td>\n",
       "    </tr>\n",
       "  </tbody>\n",
       "</table>\n",
       "<p>167 rows × 10 columns</p>\n",
       "</div>"
      ],
      "text/plain": [
       "                 country  child_mort  exports  health  imports   income  \\\n",
       "0            Afghanistan        90.2     10.0    7.58     44.9   1610.0   \n",
       "1                Albania        16.6     28.0    6.55     48.6   9930.0   \n",
       "2                Algeria        27.3     38.4    4.17     31.4  12900.0   \n",
       "3                 Angola       119.0     62.3    2.85     42.9   5900.0   \n",
       "4    Antigua and Barbuda        10.3     45.5    6.03     58.9  19100.0   \n",
       "..                   ...         ...      ...     ...      ...      ...   \n",
       "162              Vanuatu        29.2     46.6    5.25     52.7   2950.0   \n",
       "163            Venezuela        17.1     28.5    4.91     17.6  16500.0   \n",
       "164              Vietnam        23.3     72.0    6.84     80.2   4490.0   \n",
       "165                Yemen        56.3     30.0    5.18     34.4   4480.0   \n",
       "166               Zambia        83.1     37.0    5.89     30.9   3280.0   \n",
       "\n",
       "     inflation  life_expec  total_fer     gdpp  \n",
       "0         9.44        56.2       5.82    553.0  \n",
       "1         4.49        76.3       1.65   4090.0  \n",
       "2        16.10        76.5       2.89   4460.0  \n",
       "3        22.40        60.1       6.16   3530.0  \n",
       "4         1.44        76.8       2.13  12200.0  \n",
       "..         ...         ...        ...      ...  \n",
       "162       2.62        63.0       3.50   2970.0  \n",
       "163      24.16        75.4       2.47  13500.0  \n",
       "164      12.10        73.1       1.95   1310.0  \n",
       "165      23.60        67.5       4.67   1310.0  \n",
       "166      14.00        52.0       5.40   1460.0  \n",
       "\n",
       "[167 rows x 10 columns]"
      ]
     },
     "execution_count": 191,
     "metadata": {},
     "output_type": "execute_result"
    }
   ],
   "source": [
    "#Taking a copy of the data\n",
    "data_ref=data.copy()\n",
    "data_ref"
   ]
  },
  {
   "cell_type": "markdown",
   "id": "c8b42229",
   "metadata": {},
   "source": [
    "<h3>Scaling & Dimentionality reduction of the data<h3>"
   ]
  },
  {
   "cell_type": "code",
   "execution_count": 192,
   "id": "cf39f1a7",
   "metadata": {},
   "outputs": [],
   "source": [
    "from sklearn.preprocessing import StandardScaler"
   ]
  },
  {
   "cell_type": "code",
   "execution_count": 193,
   "id": "7770e152",
   "metadata": {},
   "outputs": [],
   "source": [
    "std=StandardScaler()"
   ]
  },
  {
   "cell_type": "code",
   "execution_count": 194,
   "id": "84737085",
   "metadata": {},
   "outputs": [],
   "source": [
    "data_df=data.drop(\"country\", axis=1)\n",
    "columns=data_df.columns"
   ]
  },
  {
   "cell_type": "code",
   "execution_count": 195,
   "id": "11dcae37",
   "metadata": {},
   "outputs": [],
   "source": [
    "# Check for the optimal no of dimentions needed using PCA"
   ]
  },
  {
   "cell_type": "code",
   "execution_count": 196,
   "id": "ad304eeb",
   "metadata": {},
   "outputs": [],
   "source": [
    "from sklearn.decomposition import PCA\n",
    "pca=PCA(0.99)"
   ]
  },
  {
   "cell_type": "code",
   "execution_count": 211,
   "id": "1d24262f",
   "metadata": {},
   "outputs": [
    {
     "data": {
      "text/plain": [
       "array([0.48892383, 0.16452848, 0.13756787, 0.09504553, 0.0650032 ,\n",
       "       0.02011842, 0.01655859, 0.00899467])"
      ]
     },
     "execution_count": 211,
     "metadata": {},
     "output_type": "execute_result"
    }
   ],
   "source": [
    "pca.explained_variance_ratio_"
   ]
  },
  {
   "cell_type": "code",
   "execution_count": 197,
   "id": "13d0965c",
   "metadata": {},
   "outputs": [],
   "source": [
    "from sklearn.pipeline import make_pipeline"
   ]
  },
  {
   "cell_type": "code",
   "execution_count": 198,
   "id": "9a95e5ef",
   "metadata": {},
   "outputs": [
    {
     "data": {
      "text/plain": [
       "(167, 8)"
      ]
     },
     "execution_count": 198,
     "metadata": {},
     "output_type": "execute_result"
    }
   ],
   "source": [
    "pipe=make_pipeline(std,pca)\n",
    "# Transform the data here\n",
    "x_pca=pipe.fit_transform(data_df)\n",
    "x_pca.shape"
   ]
  },
  {
   "cell_type": "markdown",
   "id": "65b19659",
   "metadata": {},
   "source": [
    "as per PCA calculation we need 8 principle components for 99% varience"
   ]
  },
  {
   "cell_type": "code",
   "execution_count": 201,
   "id": "8e884f76",
   "metadata": {},
   "outputs": [
    {
     "data": {
      "text/html": [
       "<div>\n",
       "<style scoped>\n",
       "    .dataframe tbody tr th:only-of-type {\n",
       "        vertical-align: middle;\n",
       "    }\n",
       "\n",
       "    .dataframe tbody tr th {\n",
       "        vertical-align: top;\n",
       "    }\n",
       "\n",
       "    .dataframe thead th {\n",
       "        text-align: right;\n",
       "    }\n",
       "</style>\n",
       "<table border=\"1\" class=\"dataframe\">\n",
       "  <thead>\n",
       "    <tr style=\"text-align: right;\">\n",
       "      <th></th>\n",
       "      <th>0</th>\n",
       "      <th>1</th>\n",
       "      <th>2</th>\n",
       "      <th>3</th>\n",
       "      <th>4</th>\n",
       "      <th>5</th>\n",
       "      <th>6</th>\n",
       "      <th>7</th>\n",
       "    </tr>\n",
       "  </thead>\n",
       "  <tbody>\n",
       "    <tr>\n",
       "      <th>0</th>\n",
       "      <td>-3.177917</td>\n",
       "      <td>-0.251292</td>\n",
       "      <td>-1.011474</td>\n",
       "      <td>0.778804</td>\n",
       "      <td>-0.014102</td>\n",
       "      <td>-0.249887</td>\n",
       "      <td>0.401482</td>\n",
       "      <td>0.423349</td>\n",
       "    </tr>\n",
       "    <tr>\n",
       "      <th>1</th>\n",
       "      <td>0.434979</td>\n",
       "      <td>-0.218700</td>\n",
       "      <td>-0.292591</td>\n",
       "      <td>-1.391241</td>\n",
       "      <td>0.156711</td>\n",
       "      <td>-0.095015</td>\n",
       "      <td>0.180859</td>\n",
       "      <td>-0.255277</td>\n",
       "    </tr>\n",
       "    <tr>\n",
       "      <th>2</th>\n",
       "      <td>-0.416784</td>\n",
       "      <td>-0.613870</td>\n",
       "      <td>1.637859</td>\n",
       "      <td>-0.615021</td>\n",
       "      <td>0.536604</td>\n",
       "      <td>-0.429119</td>\n",
       "      <td>-0.144657</td>\n",
       "      <td>-0.205779</td>\n",
       "    </tr>\n",
       "    <tr>\n",
       "      <th>3</th>\n",
       "      <td>-3.306409</td>\n",
       "      <td>1.066649</td>\n",
       "      <td>2.151219</td>\n",
       "      <td>1.698677</td>\n",
       "      <td>0.160551</td>\n",
       "      <td>-0.318015</td>\n",
       "      <td>-0.366271</td>\n",
       "      <td>-0.375098</td>\n",
       "    </tr>\n",
       "    <tr>\n",
       "      <th>4</th>\n",
       "      <td>1.253246</td>\n",
       "      <td>0.547778</td>\n",
       "      <td>-0.136955</td>\n",
       "      <td>-0.716890</td>\n",
       "      <td>-0.394628</td>\n",
       "      <td>-0.311152</td>\n",
       "      <td>0.143523</td>\n",
       "      <td>0.023079</td>\n",
       "    </tr>\n",
       "  </tbody>\n",
       "</table>\n",
       "</div>"
      ],
      "text/plain": [
       "          0         1         2         3         4         5         6  \\\n",
       "0 -3.177917 -0.251292 -1.011474  0.778804 -0.014102 -0.249887  0.401482   \n",
       "1  0.434979 -0.218700 -0.292591 -1.391241  0.156711 -0.095015  0.180859   \n",
       "2 -0.416784 -0.613870  1.637859 -0.615021  0.536604 -0.429119 -0.144657   \n",
       "3 -3.306409  1.066649  2.151219  1.698677  0.160551 -0.318015 -0.366271   \n",
       "4  1.253246  0.547778 -0.136955 -0.716890 -0.394628 -0.311152  0.143523   \n",
       "\n",
       "          7  \n",
       "0  0.423349  \n",
       "1 -0.255277  \n",
       "2 -0.205779  \n",
       "3 -0.375098  \n",
       "4  0.023079  "
      ]
     },
     "execution_count": 201,
     "metadata": {},
     "output_type": "execute_result"
    }
   ],
   "source": [
    "# Create a dataframe with the PCs obtained\n",
    "data_pc=pd.DataFrame(x_pca)\n",
    "data_pc.head()"
   ]
  },
  {
   "cell_type": "code",
   "execution_count": 258,
   "id": "0593c2b3",
   "metadata": {},
   "outputs": [
    {
     "data": {
      "text/plain": [
       "Text(0.5, 1.0, 'Correlation Matrix Plot')"
      ]
     },
     "execution_count": 258,
     "metadata": {},
     "output_type": "execute_result"
    },
    {
     "data": {
      "image/png": "[encoded data removed]",
      "text/plain": [
       "<Figure size 432x288 with 2 Axes>"
      ]
     },
     "metadata": {
      "needs_background": "light"
     },
     "output_type": "display_data"
    }
   ],
   "source": [
    "corr=data_pc.corr()\n",
    "sns.heatmap(corr,annot=True,cmap=\"RdYlGn\")\n",
    "plt.title(\"Correlation Matrix Plot\")"
   ]
  },
  {
   "cell_type": "markdown",
   "id": "673f702c",
   "metadata": {},
   "source": [
    "</br>"
   ]
  },
  {
   "cell_type": "markdown",
   "id": "491798ce",
   "metadata": {},
   "source": [
    "<h2> KMeans Clustering<h2>"
   ]
  },
  {
   "cell_type": "code",
   "execution_count": 220,
   "id": "60099648",
   "metadata": {},
   "outputs": [
    {
     "data": {
      "text/plain": [
       "[<matplotlib.lines.Line2D at 0x1def9b1ac10>]"
      ]
     },
     "execution_count": 220,
     "metadata": {},
     "output_type": "execute_result"
    },
    {
     "data": {
      "image/png": "[encoded data removed]",
      "text/plain": [
       "<Figure size 432x288 with 1 Axes>"
      ]
     },
     "metadata": {
      "needs_background": "light"
     },
     "output_type": "display_data"
    }
   ],
   "source": [
    "# first we ned to find optimal no of clusters using elbow plot\n",
    "from sklearn.cluster import KMeans\n",
    "WCSS=[]\n",
    "for i in range(1,11):\n",
    "    kmeans=KMeans(n_clusters=i,init=\"k-means++\",random_state=42)\n",
    "    kmeans.fit(data_pc)\n",
    "    WCSS.append(kmeans.inertia_)\n",
    "plt.plot(range(1,11),WCSS,\"-o\")"
   ]
  },
  {
   "cell_type": "code",
   "execution_count": 221,
   "id": "a15f7519",
   "metadata": {},
   "outputs": [],
   "source": [
    "#optimal value of cluster=5"
   ]
  },
  {
   "cell_type": "markdown",
   "id": "77313fd0",
   "metadata": {},
   "source": [
    "<h3>Creating the Model</h3>"
   ]
  },
  {
   "cell_type": "code",
   "execution_count": 225,
   "id": "93d7ba9d",
   "metadata": {},
   "outputs": [
    {
     "data": {
      "text/plain": [
       "array([1, 3, 0, 1, 3, 0, 0, 4, 4, 0, 4, 2, 0, 3, 3, 2, 3, 1, 3, 0, 3, 3,\n",
       "       0, 4, 3, 1, 1, 3, 1, 4, 3, 1, 1, 0, 0, 0, 1, 1, 1, 3, 1, 3, 4, 2,\n",
       "       4, 0, 0, 0, 3, 1, 1, 2, 3, 4, 4, 0, 1, 3, 4, 1, 4, 3, 0, 1, 1, 3,\n",
       "       1, 2, 4, 0, 0, 0, 0, 2, 4, 4, 0, 4, 3, 0, 1, 1, 4, 3, 1, 3, 3, 1,\n",
       "       1, 0, 3, 2, 3, 1, 1, 2, 3, 1, 2, 1, 3, 3, 3, 0, 3, 3, 1, 0, 3, 0,\n",
       "       2, 4, 1, 1, 4, 0, 1, 3, 3, 0, 0, 3, 4, 4, 3, 0, 1, 3, 0, 1, 3, 2,\n",
       "       1, 2, 2, 2, 3, 1, 4, 4, 0, 3, 1, 3, 4, 4, 0, 1, 3, 1, 1, 3, 3, 0,\n",
       "       3, 1, 3, 2, 4, 4, 0, 0, 3, 0, 3, 0, 1])"
      ]
     },
     "execution_count": 225,
     "metadata": {},
     "output_type": "execute_result"
    }
   ],
   "source": [
    "model_kmeans=KMeans()\n",
    "model_kmeans=KMeans(n_clusters=5,init=\"k-means++\",random_state=42)\n",
    "labels=model_kmeans.fit_predict(data_pc)\n",
    "labels"
   ]
  },
  {
   "cell_type": "code",
   "execution_count": 254,
   "id": "b15464d2",
   "metadata": {},
   "outputs": [
    {
     "name": "stdout",
     "output_type": "stream",
     "text": [
      "Silhouetter Score:  0.24745584760021758\n"
     ]
    }
   ],
   "source": [
    "from sklearn.metrics import silhouette_score\n",
    "model_kmeans\n",
    "score = silhouette_score(data_pc, model_kmeans.labels_, metric='euclidean')\n",
    "print('Silhouetter Score: ',score)"
   ]
  },
  {
   "cell_type": "markdown",
   "id": "cd86ecfb",
   "metadata": {},
   "source": [
    "<h3>Mapping the cluster values with dataframe</h3>"
   ]
  },
  {
   "cell_type": "code",
   "execution_count": 229,
   "id": "372c28f5",
   "metadata": {},
   "outputs": [],
   "source": [
    "clusterCut=pd.Series(labels)"
   ]
  },
  {
   "cell_type": "code",
   "execution_count": 233,
   "id": "9e901978",
   "metadata": {},
   "outputs": [
    {
     "data": {
      "text/html": [
       "<div>\n",
       "<style scoped>\n",
       "    .dataframe tbody tr th:only-of-type {\n",
       "        vertical-align: middle;\n",
       "    }\n",
       "\n",
       "    .dataframe tbody tr th {\n",
       "        vertical-align: top;\n",
       "    }\n",
       "\n",
       "    .dataframe thead th {\n",
       "        text-align: right;\n",
       "    }\n",
       "</style>\n",
       "<table border=\"1\" class=\"dataframe\">\n",
       "  <thead>\n",
       "    <tr style=\"text-align: right;\">\n",
       "      <th></th>\n",
       "      <th>PC1</th>\n",
       "      <th>PC2</th>\n",
       "      <th>PC3</th>\n",
       "      <th>PC4</th>\n",
       "      <th>PC5</th>\n",
       "      <th>PC6</th>\n",
       "      <th>PC7</th>\n",
       "      <th>PC8</th>\n",
       "      <th>ClusterID</th>\n",
       "    </tr>\n",
       "  </thead>\n",
       "  <tbody>\n",
       "    <tr>\n",
       "      <th>0</th>\n",
       "      <td>-3.177917</td>\n",
       "      <td>-0.251292</td>\n",
       "      <td>-1.011474</td>\n",
       "      <td>0.778804</td>\n",
       "      <td>-0.014102</td>\n",
       "      <td>-0.249887</td>\n",
       "      <td>0.401482</td>\n",
       "      <td>0.423349</td>\n",
       "      <td>1</td>\n",
       "    </tr>\n",
       "    <tr>\n",
       "      <th>1</th>\n",
       "      <td>0.434979</td>\n",
       "      <td>-0.218700</td>\n",
       "      <td>-0.292591</td>\n",
       "      <td>-1.391241</td>\n",
       "      <td>0.156711</td>\n",
       "      <td>-0.095015</td>\n",
       "      <td>0.180859</td>\n",
       "      <td>-0.255277</td>\n",
       "      <td>3</td>\n",
       "    </tr>\n",
       "    <tr>\n",
       "      <th>2</th>\n",
       "      <td>-0.416784</td>\n",
       "      <td>-0.613870</td>\n",
       "      <td>1.637859</td>\n",
       "      <td>-0.615021</td>\n",
       "      <td>0.536604</td>\n",
       "      <td>-0.429119</td>\n",
       "      <td>-0.144657</td>\n",
       "      <td>-0.205779</td>\n",
       "      <td>0</td>\n",
       "    </tr>\n",
       "    <tr>\n",
       "      <th>3</th>\n",
       "      <td>-3.306409</td>\n",
       "      <td>1.066649</td>\n",
       "      <td>2.151219</td>\n",
       "      <td>1.698677</td>\n",
       "      <td>0.160551</td>\n",
       "      <td>-0.318015</td>\n",
       "      <td>-0.366271</td>\n",
       "      <td>-0.375098</td>\n",
       "      <td>1</td>\n",
       "    </tr>\n",
       "    <tr>\n",
       "      <th>4</th>\n",
       "      <td>1.253246</td>\n",
       "      <td>0.547778</td>\n",
       "      <td>-0.136955</td>\n",
       "      <td>-0.716890</td>\n",
       "      <td>-0.394628</td>\n",
       "      <td>-0.311152</td>\n",
       "      <td>0.143523</td>\n",
       "      <td>0.023079</td>\n",
       "      <td>3</td>\n",
       "    </tr>\n",
       "    <tr>\n",
       "      <th>...</th>\n",
       "      <td>...</td>\n",
       "      <td>...</td>\n",
       "      <td>...</td>\n",
       "      <td>...</td>\n",
       "      <td>...</td>\n",
       "      <td>...</td>\n",
       "      <td>...</td>\n",
       "      <td>...</td>\n",
       "      <td>...</td>\n",
       "    </tr>\n",
       "    <tr>\n",
       "      <th>162</th>\n",
       "      <td>-0.882087</td>\n",
       "      <td>0.945856</td>\n",
       "      <td>-0.227550</td>\n",
       "      <td>-0.680105</td>\n",
       "      <td>-0.551247</td>\n",
       "      <td>0.175948</td>\n",
       "      <td>-0.277978</td>\n",
       "      <td>0.705125</td>\n",
       "      <td>3</td>\n",
       "    </tr>\n",
       "    <tr>\n",
       "      <th>163</th>\n",
       "      <td>-0.240053</td>\n",
       "      <td>-1.742315</td>\n",
       "      <td>2.238331</td>\n",
       "      <td>-0.080500</td>\n",
       "      <td>1.318475</td>\n",
       "      <td>-0.088591</td>\n",
       "      <td>0.224814</td>\n",
       "      <td>-0.023780</td>\n",
       "      <td>0</td>\n",
       "    </tr>\n",
       "    <tr>\n",
       "      <th>164</th>\n",
       "      <td>0.305579</td>\n",
       "      <td>2.152785</td>\n",
       "      <td>0.455745</td>\n",
       "      <td>-0.746171</td>\n",
       "      <td>1.383759</td>\n",
       "      <td>0.014034</td>\n",
       "      <td>-0.261464</td>\n",
       "      <td>-0.325053</td>\n",
       "      <td>3</td>\n",
       "    </tr>\n",
       "    <tr>\n",
       "      <th>165</th>\n",
       "      <td>-2.271105</td>\n",
       "      <td>-0.554296</td>\n",
       "      <td>1.524967</td>\n",
       "      <td>0.313639</td>\n",
       "      <td>1.295477</td>\n",
       "      <td>-0.542778</td>\n",
       "      <td>0.063108</td>\n",
       "      <td>0.072193</td>\n",
       "      <td>0</td>\n",
       "    </tr>\n",
       "    <tr>\n",
       "      <th>166</th>\n",
       "      <td>-3.141288</td>\n",
       "      <td>0.025003</td>\n",
       "      <td>0.366950</td>\n",
       "      <td>0.999005</td>\n",
       "      <td>0.006676</td>\n",
       "      <td>0.554989</td>\n",
       "      <td>-0.332930</td>\n",
       "      <td>0.707926</td>\n",
       "      <td>1</td>\n",
       "    </tr>\n",
       "  </tbody>\n",
       "</table>\n",
       "<p>167 rows × 9 columns</p>\n",
       "</div>"
      ],
      "text/plain": [
       "          PC1       PC2       PC3       PC4       PC5       PC6       PC7  \\\n",
       "0   -3.177917 -0.251292 -1.011474  0.778804 -0.014102 -0.249887  0.401482   \n",
       "1    0.434979 -0.218700 -0.292591 -1.391241  0.156711 -0.095015  0.180859   \n",
       "2   -0.416784 -0.613870  1.637859 -0.615021  0.536604 -0.429119 -0.144657   \n",
       "3   -3.306409  1.066649  2.151219  1.698677  0.160551 -0.318015 -0.366271   \n",
       "4    1.253246  0.547778 -0.136955 -0.716890 -0.394628 -0.311152  0.143523   \n",
       "..        ...       ...       ...       ...       ...       ...       ...   \n",
       "162 -0.882087  0.945856 -0.227550 -0.680105 -0.551247  0.175948 -0.277978   \n",
       "163 -0.240053 -1.742315  2.238331 -0.080500  1.318475 -0.088591  0.224814   \n",
       "164  0.305579  2.152785  0.455745 -0.746171  1.383759  0.014034 -0.261464   \n",
       "165 -2.271105 -0.554296  1.524967  0.313639  1.295477 -0.542778  0.063108   \n",
       "166 -3.141288  0.025003  0.366950  0.999005  0.006676  0.554989 -0.332930   \n",
       "\n",
       "          PC8  ClusterID  \n",
       "0    0.423349          1  \n",
       "1   -0.255277          3  \n",
       "2   -0.205779          0  \n",
       "3   -0.375098          1  \n",
       "4    0.023079          3  \n",
       "..        ...        ...  \n",
       "162  0.705125          3  \n",
       "163 -0.023780          0  \n",
       "164 -0.325053          3  \n",
       "165  0.072193          0  \n",
       "166  0.707926          1  \n",
       "\n",
       "[167 rows x 9 columns]"
      ]
     },
     "execution_count": 233,
     "metadata": {},
     "output_type": "execute_result"
    }
   ],
   "source": [
    "df_pca_hc = pd.concat([data_pc, clusterCut], axis=1)\n",
    "df_pca_hc.columns = [\"PC1\",\"PC2\",\"PC3\",\"PC4\",\"PC5\",\"PC6\",\"PC7\",\"PC8\",\"ClusterID\"]\n",
    "df_pca_hc"
   ]
  },
  {
   "cell_type": "code",
   "execution_count": 238,
   "id": "7be4079c",
   "metadata": {},
   "outputs": [
    {
     "data": {
      "text/html": [
       "<div>\n",
       "<style scoped>\n",
       "    .dataframe tbody tr th:only-of-type {\n",
       "        vertical-align: middle;\n",
       "    }\n",
       "\n",
       "    .dataframe tbody tr th {\n",
       "        vertical-align: top;\n",
       "    }\n",
       "\n",
       "    .dataframe thead th {\n",
       "        text-align: right;\n",
       "    }\n",
       "</style>\n",
       "<table border=\"1\" class=\"dataframe\">\n",
       "  <thead>\n",
       "    <tr style=\"text-align: right;\">\n",
       "      <th></th>\n",
       "      <th>country</th>\n",
       "      <th>PC1</th>\n",
       "      <th>PC2</th>\n",
       "      <th>PC3</th>\n",
       "      <th>PC4</th>\n",
       "      <th>PC5</th>\n",
       "      <th>PC6</th>\n",
       "      <th>PC7</th>\n",
       "      <th>PC8</th>\n",
       "      <th>ClusterID</th>\n",
       "    </tr>\n",
       "  </thead>\n",
       "  <tbody>\n",
       "    <tr>\n",
       "      <th>0</th>\n",
       "      <td>Afghanistan</td>\n",
       "      <td>-3.177917</td>\n",
       "      <td>-0.251292</td>\n",
       "      <td>-1.011474</td>\n",
       "      <td>0.778804</td>\n",
       "      <td>-0.014102</td>\n",
       "      <td>-0.249887</td>\n",
       "      <td>0.401482</td>\n",
       "      <td>0.423349</td>\n",
       "      <td>1</td>\n",
       "    </tr>\n",
       "    <tr>\n",
       "      <th>1</th>\n",
       "      <td>Albania</td>\n",
       "      <td>0.434979</td>\n",
       "      <td>-0.218700</td>\n",
       "      <td>-0.292591</td>\n",
       "      <td>-1.391241</td>\n",
       "      <td>0.156711</td>\n",
       "      <td>-0.095015</td>\n",
       "      <td>0.180859</td>\n",
       "      <td>-0.255277</td>\n",
       "      <td>3</td>\n",
       "    </tr>\n",
       "    <tr>\n",
       "      <th>2</th>\n",
       "      <td>Algeria</td>\n",
       "      <td>-0.416784</td>\n",
       "      <td>-0.613870</td>\n",
       "      <td>1.637859</td>\n",
       "      <td>-0.615021</td>\n",
       "      <td>0.536604</td>\n",
       "      <td>-0.429119</td>\n",
       "      <td>-0.144657</td>\n",
       "      <td>-0.205779</td>\n",
       "      <td>0</td>\n",
       "    </tr>\n",
       "    <tr>\n",
       "      <th>3</th>\n",
       "      <td>Angola</td>\n",
       "      <td>-3.306409</td>\n",
       "      <td>1.066649</td>\n",
       "      <td>2.151219</td>\n",
       "      <td>1.698677</td>\n",
       "      <td>0.160551</td>\n",
       "      <td>-0.318015</td>\n",
       "      <td>-0.366271</td>\n",
       "      <td>-0.375098</td>\n",
       "      <td>1</td>\n",
       "    </tr>\n",
       "    <tr>\n",
       "      <th>4</th>\n",
       "      <td>Antigua and Barbuda</td>\n",
       "      <td>1.253246</td>\n",
       "      <td>0.547778</td>\n",
       "      <td>-0.136955</td>\n",
       "      <td>-0.716890</td>\n",
       "      <td>-0.394628</td>\n",
       "      <td>-0.311152</td>\n",
       "      <td>0.143523</td>\n",
       "      <td>0.023079</td>\n",
       "      <td>3</td>\n",
       "    </tr>\n",
       "  </tbody>\n",
       "</table>\n",
       "</div>"
      ],
      "text/plain": [
       "               country       PC1       PC2       PC3       PC4       PC5  \\\n",
       "0          Afghanistan -3.177917 -0.251292 -1.011474  0.778804 -0.014102   \n",
       "1              Albania  0.434979 -0.218700 -0.292591 -1.391241  0.156711   \n",
       "2              Algeria -0.416784 -0.613870  1.637859 -0.615021  0.536604   \n",
       "3               Angola -3.306409  1.066649  2.151219  1.698677  0.160551   \n",
       "4  Antigua and Barbuda  1.253246  0.547778 -0.136955 -0.716890 -0.394628   \n",
       "\n",
       "        PC6       PC7       PC8  ClusterID  \n",
       "0 -0.249887  0.401482  0.423349          1  \n",
       "1 -0.095015  0.180859 -0.255277          3  \n",
       "2 -0.429119 -0.144657 -0.205779          0  \n",
       "3 -0.318015 -0.366271 -0.375098          1  \n",
       "4 -0.311152  0.143523  0.023079          3  "
      ]
     },
     "execution_count": 238,
     "metadata": {},
     "output_type": "execute_result"
    }
   ],
   "source": [
    "pca_cluster_hc = pd.concat([data['country'],df_pca_hc], axis=1, join='outer')\n",
    "pca_cluster_hc.head()"
   ]
  },
  {
   "cell_type": "code",
   "execution_count": 239,
   "id": "a7e5dbf9",
   "metadata": {},
   "outputs": [
    {
     "data": {
      "text/html": [
       "<div>\n",
       "<style scoped>\n",
       "    .dataframe tbody tr th:only-of-type {\n",
       "        vertical-align: middle;\n",
       "    }\n",
       "\n",
       "    .dataframe tbody tr th {\n",
       "        vertical-align: top;\n",
       "    }\n",
       "\n",
       "    .dataframe thead th {\n",
       "        text-align: right;\n",
       "    }\n",
       "</style>\n",
       "<table border=\"1\" class=\"dataframe\">\n",
       "  <thead>\n",
       "    <tr style=\"text-align: right;\">\n",
       "      <th></th>\n",
       "      <th>country</th>\n",
       "      <th>ClusterID</th>\n",
       "      <th>child_mort</th>\n",
       "      <th>exports</th>\n",
       "      <th>health</th>\n",
       "      <th>imports</th>\n",
       "      <th>income</th>\n",
       "      <th>inflation</th>\n",
       "      <th>life_expec</th>\n",
       "      <th>total_fer</th>\n",
       "      <th>gdpp</th>\n",
       "    </tr>\n",
       "  </thead>\n",
       "  <tbody>\n",
       "    <tr>\n",
       "      <th>0</th>\n",
       "      <td>Afghanistan</td>\n",
       "      <td>1</td>\n",
       "      <td>90.2</td>\n",
       "      <td>10.0</td>\n",
       "      <td>7.58</td>\n",
       "      <td>44.9</td>\n",
       "      <td>1610.0</td>\n",
       "      <td>9.44</td>\n",
       "      <td>56.2</td>\n",
       "      <td>5.82</td>\n",
       "      <td>553.0</td>\n",
       "    </tr>\n",
       "    <tr>\n",
       "      <th>1</th>\n",
       "      <td>Albania</td>\n",
       "      <td>3</td>\n",
       "      <td>16.6</td>\n",
       "      <td>28.0</td>\n",
       "      <td>6.55</td>\n",
       "      <td>48.6</td>\n",
       "      <td>9930.0</td>\n",
       "      <td>4.49</td>\n",
       "      <td>76.3</td>\n",
       "      <td>1.65</td>\n",
       "      <td>4090.0</td>\n",
       "    </tr>\n",
       "    <tr>\n",
       "      <th>2</th>\n",
       "      <td>Algeria</td>\n",
       "      <td>0</td>\n",
       "      <td>27.3</td>\n",
       "      <td>38.4</td>\n",
       "      <td>4.17</td>\n",
       "      <td>31.4</td>\n",
       "      <td>12900.0</td>\n",
       "      <td>16.10</td>\n",
       "      <td>76.5</td>\n",
       "      <td>2.89</td>\n",
       "      <td>4460.0</td>\n",
       "    </tr>\n",
       "    <tr>\n",
       "      <th>3</th>\n",
       "      <td>Angola</td>\n",
       "      <td>1</td>\n",
       "      <td>119.0</td>\n",
       "      <td>62.3</td>\n",
       "      <td>2.85</td>\n",
       "      <td>42.9</td>\n",
       "      <td>5900.0</td>\n",
       "      <td>22.40</td>\n",
       "      <td>60.1</td>\n",
       "      <td>6.16</td>\n",
       "      <td>3530.0</td>\n",
       "    </tr>\n",
       "    <tr>\n",
       "      <th>4</th>\n",
       "      <td>Antigua and Barbuda</td>\n",
       "      <td>3</td>\n",
       "      <td>10.3</td>\n",
       "      <td>45.5</td>\n",
       "      <td>6.03</td>\n",
       "      <td>58.9</td>\n",
       "      <td>19100.0</td>\n",
       "      <td>1.44</td>\n",
       "      <td>76.8</td>\n",
       "      <td>2.13</td>\n",
       "      <td>12200.0</td>\n",
       "    </tr>\n",
       "  </tbody>\n",
       "</table>\n",
       "</div>"
      ],
      "text/plain": [
       "               country  ClusterID  child_mort  exports  health  imports  \\\n",
       "0          Afghanistan          1        90.2     10.0    7.58     44.9   \n",
       "1              Albania          3        16.6     28.0    6.55     48.6   \n",
       "2              Algeria          0        27.3     38.4    4.17     31.4   \n",
       "3               Angola          1       119.0     62.3    2.85     42.9   \n",
       "4  Antigua and Barbuda          3        10.3     45.5    6.03     58.9   \n",
       "\n",
       "    income  inflation  life_expec  total_fer     gdpp  \n",
       "0   1610.0       9.44        56.2       5.82    553.0  \n",
       "1   9930.0       4.49        76.3       1.65   4090.0  \n",
       "2  12900.0      16.10        76.5       2.89   4460.0  \n",
       "3   5900.0      22.40        60.1       6.16   3530.0  \n",
       "4  19100.0       1.44        76.8       2.13  12200.0  "
      ]
     },
     "execution_count": 239,
     "metadata": {},
     "output_type": "execute_result"
    }
   ],
   "source": [
    "clustered_data_hc = pca_cluster_hc[['country','ClusterID']].merge(data, on = 'country')\n",
    "clustered_data_hc.head()"
   ]
  },
  {
   "cell_type": "code",
   "execution_count": 240,
   "id": "d1f13832",
   "metadata": {},
   "outputs": [],
   "source": [
    "# Calculate the feature mean values for each clusters"
   ]
  },
  {
   "cell_type": "code",
   "execution_count": 243,
   "id": "0545e0e3",
   "metadata": {},
   "outputs": [],
   "source": [
    "hc_child_mort=pd.DataFrame(clustered_data_hc.groupby(\"ClusterID\")[\"child_mort\"].mean())\n",
    "hc_exports=pd.DataFrame(clustered_data_hc.groupby(\"ClusterID\")[\"exports\"].mean())\n",
    "hc_health=pd.DataFrame(clustered_data_hc.groupby(\"ClusterID\")[\"health\"].mean())\n",
    "hc_imports=pd.DataFrame(clustered_data_hc.groupby(\"ClusterID\")[\"imports\"].mean())\n",
    "hc_income=pd.DataFrame(clustered_data_hc.groupby(\"ClusterID\")[\"income\"].mean())\n",
    "hc_inflation=pd.DataFrame(clustered_data_hc.groupby(\"ClusterID\")[\"inflation\"].mean())\n",
    "hc_life_expec=pd.DataFrame(clustered_data_hc.groupby(\"ClusterID\")[\"life_expec\"].mean())\n",
    "hc_total_fer=pd.DataFrame(clustered_data_hc.groupby(\"ClusterID\")[\"total_fer\"].mean())\n",
    "hc_gdpp=pd.DataFrame(clustered_data_hc.groupby(\"ClusterID\")[\"gdpp\"].mean())"
   ]
  },
  {
   "cell_type": "code",
   "execution_count": 244,
   "id": "865f49e4",
   "metadata": {},
   "outputs": [],
   "source": [
    "df=pd.concat([pd.Series(list(range(0,5))), hc_child_mort,hc_exports, hc_health, hc_imports,\n",
    "               hc_income, hc_inflation, hc_life_expec,hc_total_fer,hc_gdpp], axis=1)"
   ]
  },
  {
   "cell_type": "code",
   "execution_count": 245,
   "id": "da29ccb2",
   "metadata": {},
   "outputs": [
    {
     "data": {
      "text/html": [
       "<div>\n",
       "<style scoped>\n",
       "    .dataframe tbody tr th:only-of-type {\n",
       "        vertical-align: middle;\n",
       "    }\n",
       "\n",
       "    .dataframe tbody tr th {\n",
       "        vertical-align: top;\n",
       "    }\n",
       "\n",
       "    .dataframe thead th {\n",
       "        text-align: right;\n",
       "    }\n",
       "</style>\n",
       "<table border=\"1\" class=\"dataframe\">\n",
       "  <thead>\n",
       "    <tr style=\"text-align: right;\">\n",
       "      <th></th>\n",
       "      <th>0</th>\n",
       "      <th>child_mort</th>\n",
       "      <th>exports</th>\n",
       "      <th>health</th>\n",
       "      <th>imports</th>\n",
       "      <th>income</th>\n",
       "      <th>inflation</th>\n",
       "      <th>life_expec</th>\n",
       "      <th>total_fer</th>\n",
       "      <th>gdpp</th>\n",
       "    </tr>\n",
       "  </thead>\n",
       "  <tbody>\n",
       "    <tr>\n",
       "      <th>0</th>\n",
       "      <td>0</td>\n",
       "      <td>29.194595</td>\n",
       "      <td>30.332135</td>\n",
       "      <td>5.321081</td>\n",
       "      <td>29.480159</td>\n",
       "      <td>13062.432432</td>\n",
       "      <td>12.497568</td>\n",
       "      <td>72.240541</td>\n",
       "      <td>2.604865</td>\n",
       "      <td>6219.351351</td>\n",
       "    </tr>\n",
       "    <tr>\n",
       "      <th>1</th>\n",
       "      <td>1</td>\n",
       "      <td>95.435714</td>\n",
       "      <td>27.419286</td>\n",
       "      <td>6.383095</td>\n",
       "      <td>42.614286</td>\n",
       "      <td>3117.928571</td>\n",
       "      <td>9.826786</td>\n",
       "      <td>59.203571</td>\n",
       "      <td>5.121607</td>\n",
       "      <td>1529.809524</td>\n",
       "    </tr>\n",
       "    <tr>\n",
       "      <th>2</th>\n",
       "      <td>2</td>\n",
       "      <td>5.946667</td>\n",
       "      <td>80.625000</td>\n",
       "      <td>7.202000</td>\n",
       "      <td>77.693333</td>\n",
       "      <td>35086.833333</td>\n",
       "      <td>2.136667</td>\n",
       "      <td>77.920000</td>\n",
       "      <td>1.711333</td>\n",
       "      <td>23196.666667</td>\n",
       "    </tr>\n",
       "    <tr>\n",
       "      <th>3</th>\n",
       "      <td>3</td>\n",
       "      <td>20.861702</td>\n",
       "      <td>44.768085</td>\n",
       "      <td>6.958511</td>\n",
       "      <td>58.053191</td>\n",
       "      <td>10538.297872</td>\n",
       "      <td>4.294234</td>\n",
       "      <td>72.012766</td>\n",
       "      <td>2.299787</td>\n",
       "      <td>5644.170213</td>\n",
       "    </tr>\n",
       "    <tr>\n",
       "      <th>4</th>\n",
       "      <td>4</td>\n",
       "      <td>5.284615</td>\n",
       "      <td>39.092308</td>\n",
       "      <td>9.011923</td>\n",
       "      <td>34.019231</td>\n",
       "      <td>39347.596154</td>\n",
       "      <td>2.725077</td>\n",
       "      <td>80.307692</td>\n",
       "      <td>1.791538</td>\n",
       "      <td>31579.615385</td>\n",
       "    </tr>\n",
       "  </tbody>\n",
       "</table>\n",
       "</div>"
      ],
      "text/plain": [
       "   0  child_mort    exports    health    imports        income  inflation  \\\n",
       "0  0   29.194595  30.332135  5.321081  29.480159  13062.432432  12.497568   \n",
       "1  1   95.435714  27.419286  6.383095  42.614286   3117.928571   9.826786   \n",
       "2  2    5.946667  80.625000  7.202000  77.693333  35086.833333   2.136667   \n",
       "3  3   20.861702  44.768085  6.958511  58.053191  10538.297872   4.294234   \n",
       "4  4    5.284615  39.092308  9.011923  34.019231  39347.596154   2.725077   \n",
       "\n",
       "   life_expec  total_fer          gdpp  \n",
       "0   72.240541   2.604865   6219.351351  \n",
       "1   59.203571   5.121607   1529.809524  \n",
       "2   77.920000   1.711333  23196.666667  \n",
       "3   72.012766   2.299787   5644.170213  \n",
       "4   80.307692   1.791538  31579.615385  "
      ]
     },
     "execution_count": 245,
     "metadata": {},
     "output_type": "execute_result"
    }
   ],
   "source": [
    "df.head()"
   ]
  },
  {
   "cell_type": "code",
   "execution_count": 249,
   "id": "08be2e83",
   "metadata": {},
   "outputs": [],
   "source": [
    "#Cluster with ClusterID as 1, is the cluster of most backward country.\n",
    "#Countries on which we require to focus more are"
   ]
  },
  {
   "cell_type": "code",
   "execution_count": 246,
   "id": "c1950651",
   "metadata": {},
   "outputs": [
    {
     "data": {
      "text/plain": [
       "array(['Afghanistan', 'Angola', 'Benin', 'Burkina Faso', 'Burundi',\n",
       "       'Cameroon', 'Central African Republic', 'Chad', 'Comoros',\n",
       "       'Congo, Dem. Rep.', 'Congo, Rep.', \"Cote d'Ivoire\",\n",
       "       'Equatorial Guinea', 'Eritrea', 'Gambia', 'Ghana', 'Guinea',\n",
       "       'Guinea-Bissau', 'Haiti', 'Kenya', 'Kiribati', 'Lao', 'Lesotho',\n",
       "       'Liberia', 'Madagascar', 'Malawi', 'Mali', 'Mauritania',\n",
       "       'Mozambique', 'Niger', 'Nigeria', 'Pakistan', 'Rwanda', 'Senegal',\n",
       "       'Sierra Leone', 'South Africa', 'Sudan', 'Tanzania', 'Timor-Leste',\n",
       "       'Togo', 'Uganda', 'Zambia'], dtype=object)"
      ]
     },
     "execution_count": 246,
     "metadata": {},
     "output_type": "execute_result"
    }
   ],
   "source": [
    "clustered_data_hc[clustered_data_hc.ClusterID == 1].country.values"
   ]
  },
  {
   "cell_type": "code",
   "execution_count": null,
   "id": "3a6f8743",
   "metadata": {},
   "outputs": [],
   "source": [
    "#Cluster with ClusterID as 1, is the cluster of most backward country.\n",
    "# #Countries on which we require to focus more are \n",
    "#        ['Afghanistan', 'Angola', 'Benin', 'Burkina Faso', 'Burundi',\n",
    "#        'Cameroon', 'Central African Republic', 'Chad', 'Comoros',\n",
    "#        'Congo, Dem. Rep.', 'Congo, Rep.', \"Cote d'Ivoire\",\n",
    "#        'Equatorial Guinea', 'Eritrea', 'Gambia', 'Ghana', 'Guinea',\n",
    "#        'Guinea-Bissau', 'Haiti', 'Kenya', 'Kiribati', 'Lao', 'Lesotho',\n",
    "#        'Liberia', 'Madagascar', 'Malawi', 'Mali', 'Mauritania',\n",
    "#        'Mozambique', 'Niger', 'Nigeria', 'Pakistan', 'Rwanda', 'Senegal',\n",
    "#        'Sierra Leone', 'South Africa', 'Sudan', 'Tanzania', 'Timor-Leste',\n",
    "#        'Togo', 'Uganda', 'Zambia']\n"
   ]
  }
 ],
 "metadata": {
  "kernelspec": {
   "display_name": "Python 3 (ipykernel)",
   "language": "python",
   "name": "python3"
  },
  "language_info": {
   "codemirror_mode": {
    "name": "ipython",
    "version": 3
   },
   "file_extension": ".py",
   "mimetype": "text/x-python",
   "name": "python",
   "nbconvert_exporter": "python",
   "pygments_lexer": "ipython3",
   "version": "3.9.12"
  }
 },
 "nbformat": 4,
 "nbformat_minor": 5
}
